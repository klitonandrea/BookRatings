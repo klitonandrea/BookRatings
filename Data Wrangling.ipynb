{
 "cells": [
  {
   "cell_type": "markdown",
   "metadata": {},
   "source": [
    "# Data Wrangling "
   ]
  },
  {
   "cell_type": "markdown",
   "metadata": {},
   "source": [
    "## Retrieving books from [Open Library dump](https://openlibrary.org/developers/dumps) and their ratings in [Goodreads](https://www.goodreads.com)"
   ]
  },
  {
   "cell_type": "markdown",
   "metadata": {},
   "source": [
    "Loading the necessary python packages"
   ]
  },
  {
   "cell_type": "code",
   "execution_count": 1,
   "metadata": {
    "collapsed": false
   },
   "outputs": [],
   "source": [
    "%matplotlib inline\n",
    "import pandas as pd\n",
    "import seaborn as sns\n",
    "import csv\n",
    "import json\n",
    "path='/home/kliton/Documents/Springboard/Capstone/BookRatings/'"
   ]
  },
  {
   "cell_type": "markdown",
   "metadata": {},
   "source": [
    "Define the paths where to retrieve the datasets from"
   ]
  },
  {
   "cell_type": "code",
   "execution_count": 10,
   "metadata": {
    "collapsed": false
   },
   "outputs": [],
   "source": [
    "BookRatings =  pd.read_csv(path + 'goodreadsReviewsDB1.csv')\n",
    "BookDescr   =  pd.DataFrame() #pd.read_csv(path + 'allDBooks.csv') \n",
    "\n",
    "#combine the dataframes from the files\n",
    "for filenum in range(1, 6):\n",
    "    dfbooks = pd.read_csv(path + 'goodreadsTransfDB' + str(filenum)+'.csv')\n",
    "    BookDescr = pd.DataFrame.append(BookDescr, dfbooks)"
   ]
  },
  {
   "cell_type": "markdown",
   "metadata": {},
   "source": [
    "Calculate the number of rows in dataset"
   ]
  },
  {
   "cell_type": "code",
   "execution_count": 11,
   "metadata": {
    "collapsed": false
   },
   "outputs": [
    {
     "name": "stdout",
     "output_type": "stream",
     "text": [
      "Length of OL dump: 20005, respective Goodreads ratings:18001\n"
     ]
    }
   ],
   "source": [
    "print('Length of OL dump: '+ str(len(BookDescr)) +', respective Goodreads ratings:' + str(len(BookRatings)))"
   ]
  },
  {
   "cell_type": "markdown",
   "metadata": {},
   "source": [
    "The structure from the dump table:"
   ]
  },
  {
   "cell_type": "code",
   "execution_count": 12,
   "metadata": {
    "collapsed": false
   },
   "outputs": [
    {
     "data": {
      "text/html": [
       "<div>\n",
       "<table border=\"1\" class=\"dataframe\">\n",
       "  <thead>\n",
       "    <tr style=\"text-align: right;\">\n",
       "      <th></th>\n",
       "      <th>Unnamed: 0</th>\n",
       "      <th>authors</th>\n",
       "      <th>by_statement</th>\n",
       "      <th>classifications.udc</th>\n",
       "      <th>contributions</th>\n",
       "      <th>contributors</th>\n",
       "      <th>copyright_date</th>\n",
       "      <th>coverimage</th>\n",
       "      <th>covers</th>\n",
       "      <th>create</th>\n",
       "      <th>...</th>\n",
       "      <th>translated_from</th>\n",
       "      <th>translation_of</th>\n",
       "      <th>type.key</th>\n",
       "      <th>uri_descriptions</th>\n",
       "      <th>uris</th>\n",
       "      <th>url</th>\n",
       "      <th>weight</th>\n",
       "      <th>work_title</th>\n",
       "      <th>work_titles</th>\n",
       "      <th>works</th>\n",
       "    </tr>\n",
       "  </thead>\n",
       "  <tbody>\n",
       "    <tr>\n",
       "      <th>0</th>\n",
       "      <td>0</td>\n",
       "      <td>NaN</td>\n",
       "      <td>edited by Stephanie Newell.</td>\n",
       "      <td>NaN</td>\n",
       "      <td>['Newell, Stephanie, 1968-']</td>\n",
       "      <td>NaN</td>\n",
       "      <td>NaN</td>\n",
       "      <td>NaN</td>\n",
       "      <td>[4872475, 4872461, 3858348, 3858328]</td>\n",
       "      <td>NaN</td>\n",
       "      <td>...</td>\n",
       "      <td>NaN</td>\n",
       "      <td>NaN</td>\n",
       "      <td>/type/edition</td>\n",
       "      <td>['Publisher description', 'Table of contents']</td>\n",
       "      <td>['http://www.loc.gov/catdir/description/hol055...</td>\n",
       "      <td>['http://www.loc.gov/catdir/description/hol055...</td>\n",
       "      <td>NaN</td>\n",
       "      <td>NaN</td>\n",
       "      <td>NaN</td>\n",
       "      <td>NaN</td>\n",
       "    </tr>\n",
       "    <tr>\n",
       "      <th>1</th>\n",
       "      <td>0</td>\n",
       "      <td>[{'key': '/authors/OL230045A'}]</td>\n",
       "      <td>Mario Bencastro.</td>\n",
       "      <td>NaN</td>\n",
       "      <td>NaN</td>\n",
       "      <td>NaN</td>\n",
       "      <td>NaN</td>\n",
       "      <td>NaN</td>\n",
       "      <td>[1882676]</td>\n",
       "      <td>NaN</td>\n",
       "      <td>...</td>\n",
       "      <td>NaN</td>\n",
       "      <td>NaN</td>\n",
       "      <td>/type/edition</td>\n",
       "      <td>NaN</td>\n",
       "      <td>NaN</td>\n",
       "      <td>NaN</td>\n",
       "      <td>NaN</td>\n",
       "      <td>NaN</td>\n",
       "      <td>NaN</td>\n",
       "      <td>[{'key': '/works/OL1919075W'}]</td>\n",
       "    </tr>\n",
       "    <tr>\n",
       "      <th>2</th>\n",
       "      <td>0</td>\n",
       "      <td>[{'key': '/authors/OL541207A'}]</td>\n",
       "      <td>Mina Kumar.</td>\n",
       "      <td>NaN</td>\n",
       "      <td>NaN</td>\n",
       "      <td>NaN</td>\n",
       "      <td>NaN</td>\n",
       "      <td>NaN</td>\n",
       "      <td>NaN</td>\n",
       "      <td>NaN</td>\n",
       "      <td>...</td>\n",
       "      <td>NaN</td>\n",
       "      <td>NaN</td>\n",
       "      <td>/type/edition</td>\n",
       "      <td>NaN</td>\n",
       "      <td>NaN</td>\n",
       "      <td>NaN</td>\n",
       "      <td>NaN</td>\n",
       "      <td>NaN</td>\n",
       "      <td>NaN</td>\n",
       "      <td>[{'key': '/works/OL3338418W'}]</td>\n",
       "    </tr>\n",
       "    <tr>\n",
       "      <th>3</th>\n",
       "      <td>0</td>\n",
       "      <td>[{'key': '/authors/OL244070A'}]</td>\n",
       "      <td>by Robb Armstrong.</td>\n",
       "      <td>NaN</td>\n",
       "      <td>NaN</td>\n",
       "      <td>NaN</td>\n",
       "      <td>NaN</td>\n",
       "      <td>NaN</td>\n",
       "      <td>[3857941, 3857863]</td>\n",
       "      <td>NaN</td>\n",
       "      <td>...</td>\n",
       "      <td>NaN</td>\n",
       "      <td>NaN</td>\n",
       "      <td>/type/edition</td>\n",
       "      <td>NaN</td>\n",
       "      <td>NaN</td>\n",
       "      <td>NaN</td>\n",
       "      <td>NaN</td>\n",
       "      <td>NaN</td>\n",
       "      <td>NaN</td>\n",
       "      <td>[{'key': '/works/OL2021805W'}]</td>\n",
       "    </tr>\n",
       "    <tr>\n",
       "      <th>4</th>\n",
       "      <td>0</td>\n",
       "      <td>[{'key': '/authors/OL24054A'}]</td>\n",
       "      <td>Sandra Belton.</td>\n",
       "      <td>NaN</td>\n",
       "      <td>NaN</td>\n",
       "      <td>NaN</td>\n",
       "      <td>NaN</td>\n",
       "      <td>NaN</td>\n",
       "      <td>[3857889]</td>\n",
       "      <td>NaN</td>\n",
       "      <td>...</td>\n",
       "      <td>NaN</td>\n",
       "      <td>NaN</td>\n",
       "      <td>/type/edition</td>\n",
       "      <td>NaN</td>\n",
       "      <td>NaN</td>\n",
       "      <td>NaN</td>\n",
       "      <td>NaN</td>\n",
       "      <td>NaN</td>\n",
       "      <td>NaN</td>\n",
       "      <td>[{'key': '/works/OL16070305W'}]</td>\n",
       "    </tr>\n",
       "  </tbody>\n",
       "</table>\n",
       "<p>5 rows × 82 columns</p>\n",
       "</div>"
      ],
      "text/plain": [
       "   Unnamed: 0                          authors                 by_statement  \\\n",
       "0           0                              NaN  edited by Stephanie Newell.   \n",
       "1           0  [{'key': '/authors/OL230045A'}]             Mario Bencastro.   \n",
       "2           0  [{'key': '/authors/OL541207A'}]                  Mina Kumar.   \n",
       "3           0  [{'key': '/authors/OL244070A'}]           by Robb Armstrong.   \n",
       "4           0   [{'key': '/authors/OL24054A'}]               Sandra Belton.   \n",
       "\n",
       "  classifications.udc                 contributions contributors  \\\n",
       "0                 NaN  ['Newell, Stephanie, 1968-']          NaN   \n",
       "1                 NaN                           NaN          NaN   \n",
       "2                 NaN                           NaN          NaN   \n",
       "3                 NaN                           NaN          NaN   \n",
       "4                 NaN                           NaN          NaN   \n",
       "\n",
       "  copyright_date coverimage                                covers create  \\\n",
       "0            NaN        NaN  [4872475, 4872461, 3858348, 3858328]    NaN   \n",
       "1            NaN        NaN                             [1882676]    NaN   \n",
       "2            NaN        NaN                                   NaN    NaN   \n",
       "3            NaN        NaN                    [3857941, 3857863]    NaN   \n",
       "4            NaN        NaN                             [3857889]    NaN   \n",
       "\n",
       "                ...                translated_from translation_of  \\\n",
       "0               ...                            NaN            NaN   \n",
       "1               ...                            NaN            NaN   \n",
       "2               ...                            NaN            NaN   \n",
       "3               ...                            NaN            NaN   \n",
       "4               ...                            NaN            NaN   \n",
       "\n",
       "        type.key                                uri_descriptions  \\\n",
       "0  /type/edition  ['Publisher description', 'Table of contents']   \n",
       "1  /type/edition                                             NaN   \n",
       "2  /type/edition                                             NaN   \n",
       "3  /type/edition                                             NaN   \n",
       "4  /type/edition                                             NaN   \n",
       "\n",
       "                                                uris  \\\n",
       "0  ['http://www.loc.gov/catdir/description/hol055...   \n",
       "1                                                NaN   \n",
       "2                                                NaN   \n",
       "3                                                NaN   \n",
       "4                                                NaN   \n",
       "\n",
       "                                                 url weight work_title  \\\n",
       "0  ['http://www.loc.gov/catdir/description/hol055...    NaN        NaN   \n",
       "1                                                NaN    NaN        NaN   \n",
       "2                                                NaN    NaN        NaN   \n",
       "3                                                NaN    NaN        NaN   \n",
       "4                                                NaN    NaN        NaN   \n",
       "\n",
       "  work_titles                            works  \n",
       "0         NaN                              NaN  \n",
       "1         NaN   [{'key': '/works/OL1919075W'}]  \n",
       "2         NaN   [{'key': '/works/OL3338418W'}]  \n",
       "3         NaN   [{'key': '/works/OL2021805W'}]  \n",
       "4         NaN  [{'key': '/works/OL16070305W'}]  \n",
       "\n",
       "[5 rows x 82 columns]"
      ]
     },
     "execution_count": 12,
     "metadata": {},
     "output_type": "execute_result"
    }
   ],
   "source": [
    "BookDescr.head()"
   ]
  },
  {
   "cell_type": "markdown",
   "metadata": {},
   "source": [
    "There are 82 columns. Let's have a look at all of them:"
   ]
  },
  {
   "cell_type": "code",
   "execution_count": 15,
   "metadata": {
    "collapsed": false,
    "scrolled": false
   },
   "outputs": [
    {
     "data": {
      "text/plain": [
       "Index(['Unnamed: 0', 'authors', 'by_statement', 'classifications.udc',\n",
       "       'contributions', 'contributors', 'copyright_date', 'coverimage',\n",
       "       'covers', 'create', 'created.type', 'created.value', 'description',\n",
       "       'description.type', 'description.value', 'dewey_decimal_class',\n",
       "       'edition_name', 'first_sentence', 'first_sentence.type',\n",
       "       'first_sentence.value', 'full_title', 'genres', 'ia_box_id',\n",
       "       'ia_loaded_id', 'identifiers.amazon', 'identifiers.amazon.co.uk_asin',\n",
       "       'identifiers.bodleian,_oxford_university',\n",
       "       'identifiers.british_library', 'identifiers.goodreads',\n",
       "       'identifiers.google', 'identifiers.librarything', 'identifiers.oclc',\n",
       "       'identifiers.shelfari', 'isbn_10', 'isbn_13', 'isbn_invalid', 'key',\n",
       "       'languages', 'last_modified.type', 'last_modified.value',\n",
       "       'latest_revision', 'lc_classifications', 'lccn', 'links', 'location',\n",
       "       'notes', 'notes.type', 'notes.value', 'number_of_pages', 'ocaid',\n",
       "       'oclc_number', 'oclc_numbers', 'other_titles', 'pagination',\n",
       "       'physical_dimensions', 'physical_format', 'publish_country',\n",
       "       'publish_date', 'publish_places', 'publishers', 'revision', 'series',\n",
       "       'source_records', 'subject_place', 'subject_places', 'subject_time',\n",
       "       'subject_times', 'subjects', 'subtitle', 'table_of_contents', 'title',\n",
       "       'title_prefix', 'translated_from', 'translation_of', 'type.key',\n",
       "       'uri_descriptions', 'uris', 'url', 'weight', 'work_title',\n",
       "       'work_titles', 'works'],\n",
       "      dtype='object')"
      ]
     },
     "execution_count": 15,
     "metadata": {},
     "output_type": "execute_result"
    }
   ],
   "source": [
    "BookDescr.columns"
   ]
  },
  {
   "cell_type": "markdown",
   "metadata": {},
   "source": [
    "The identifier columns do not give us much information. We can drop this information:"
   ]
  },
  {
   "cell_type": "code",
   "execution_count": 17,
   "metadata": {
    "collapsed": false
   },
   "outputs": [],
   "source": [
    "BookDescr.drop([item for l in filter(None, BookDescr.columns.str.findall('identi.*')) for item in l], axis=1, inplace=True)"
   ]
  },
  {
   "cell_type": "markdown",
   "metadata": {},
   "source": [
    "The ratings table has the following columns:"
   ]
  },
  {
   "cell_type": "code",
   "execution_count": 14,
   "metadata": {
    "collapsed": false,
    "scrolled": true
   },
   "outputs": [
    {
     "data": {
      "text/html": [
       "<div>\n",
       "<table border=\"1\" class=\"dataframe\">\n",
       "  <thead>\n",
       "    <tr style=\"text-align: right;\">\n",
       "      <th></th>\n",
       "      <th>Unnamed: 0</th>\n",
       "      <th>average_rating</th>\n",
       "      <th>id</th>\n",
       "      <th>isbn</th>\n",
       "      <th>isbn13</th>\n",
       "      <th>ratings_count</th>\n",
       "      <th>reviews_count</th>\n",
       "      <th>text_reviews_count</th>\n",
       "      <th>work_ratings_count</th>\n",
       "      <th>work_reviews_count</th>\n",
       "      <th>work_text_reviews_count</th>\n",
       "    </tr>\n",
       "  </thead>\n",
       "  <tbody>\n",
       "    <tr>\n",
       "      <th>0</th>\n",
       "      <td>0</td>\n",
       "      <td>3.0</td>\n",
       "      <td>5082313</td>\n",
       "      <td>1856494497</td>\n",
       "      <td>9.781856e+12</td>\n",
       "      <td>2</td>\n",
       "      <td>3</td>\n",
       "      <td>0</td>\n",
       "      <td>2</td>\n",
       "      <td>3</td>\n",
       "      <td>0</td>\n",
       "    </tr>\n",
       "    <tr>\n",
       "      <th>1</th>\n",
       "      <td>1</td>\n",
       "      <td>3.0</td>\n",
       "      <td>1271896</td>\n",
       "      <td>1856494500</td>\n",
       "      <td>9.781856e+12</td>\n",
       "      <td>0</td>\n",
       "      <td>0</td>\n",
       "      <td>0</td>\n",
       "      <td>2</td>\n",
       "      <td>3</td>\n",
       "      <td>0</td>\n",
       "    </tr>\n",
       "    <tr>\n",
       "      <th>2</th>\n",
       "      <td>2</td>\n",
       "      <td>3.8</td>\n",
       "      <td>1466769</td>\n",
       "      <td>1558851941</td>\n",
       "      <td>9.781559e+12</td>\n",
       "      <td>9</td>\n",
       "      <td>24</td>\n",
       "      <td>0</td>\n",
       "      <td>15</td>\n",
       "      <td>35</td>\n",
       "      <td>1</td>\n",
       "    </tr>\n",
       "    <tr>\n",
       "      <th>3</th>\n",
       "      <td>3</td>\n",
       "      <td>4.0</td>\n",
       "      <td>2172988</td>\n",
       "      <td>60275278</td>\n",
       "      <td>9.780060e+12</td>\n",
       "      <td>0</td>\n",
       "      <td>1</td>\n",
       "      <td>0</td>\n",
       "      <td>1</td>\n",
       "      <td>7</td>\n",
       "      <td>0</td>\n",
       "    </tr>\n",
       "    <tr>\n",
       "      <th>4</th>\n",
       "      <td>4</td>\n",
       "      <td>4.0</td>\n",
       "      <td>611491</td>\n",
       "      <td>64420477</td>\n",
       "      <td>9.780064e+12</td>\n",
       "      <td>1</td>\n",
       "      <td>6</td>\n",
       "      <td>0</td>\n",
       "      <td>1</td>\n",
       "      <td>7</td>\n",
       "      <td>0</td>\n",
       "    </tr>\n",
       "  </tbody>\n",
       "</table>\n",
       "</div>"
      ],
      "text/plain": [
       "   Unnamed: 0  average_rating       id        isbn        isbn13  \\\n",
       "0           0             3.0  5082313  1856494497  9.781856e+12   \n",
       "1           1             3.0  1271896  1856494500  9.781856e+12   \n",
       "2           2             3.8  1466769  1558851941  9.781559e+12   \n",
       "3           3             4.0  2172988    60275278  9.780060e+12   \n",
       "4           4             4.0   611491    64420477  9.780064e+12   \n",
       "\n",
       "   ratings_count  reviews_count  text_reviews_count  work_ratings_count  \\\n",
       "0              2              3                   0                   2   \n",
       "1              0              0                   0                   2   \n",
       "2              9             24                   0                  15   \n",
       "3              0              1                   0                   1   \n",
       "4              1              6                   0                   1   \n",
       "\n",
       "   work_reviews_count  work_text_reviews_count  \n",
       "0                   3                        0  \n",
       "1                   3                        0  \n",
       "2                  35                        1  \n",
       "3                   7                        0  \n",
       "4                   7                        0  "
      ]
     },
     "execution_count": 14,
     "metadata": {},
     "output_type": "execute_result"
    }
   ],
   "source": [
    "BookRatings.head()"
   ]
  },
  {
   "cell_type": "markdown",
   "metadata": {},
   "source": [
    "The *isbn* column holds values of integer types. It is necessary to convert that column to 0 left padded string:"
   ]
  },
  {
   "cell_type": "code",
   "execution_count": 18,
   "metadata": {
    "collapsed": true
   },
   "outputs": [],
   "source": [
    "BookRatings['isbn10'] = BookRatings.isbn.apply(lambda x: str(x).zfill(10) )"
   ]
  },
  {
   "cell_type": "markdown",
   "metadata": {},
   "source": [
    "With this new column we can calculate an average rating for several ISBNs for a literature work (there can be several editions for a book and also there can be a collection of works). First, we need to convert the *isbn* column contents to a list. The raw format is \"['isbn1', 'isbn2'...]\""
   ]
  },
  {
   "cell_type": "code",
   "execution_count": 22,
   "metadata": {
    "collapsed": false
   },
   "outputs": [],
   "source": [
    "BookDescr['isbn10'] = BookDescr.isbn_10.apply(lambda x: eval(str(x)) if type(x)==str else '')"
   ]
  },
  {
   "cell_type": "markdown",
   "metadata": {},
   "source": [
    "The average rating columns is appended to the main table by matching the isbn numbers:"
   ]
  },
  {
   "cell_type": "code",
   "execution_count": 23,
   "metadata": {
    "collapsed": false
   },
   "outputs": [],
   "source": [
    "BookDescr['average_rating'] = BookDescr.isbn10.apply(lambda x: BookRatings[BookRatings.isbn10.isin(x if type(x)=='list' else list(x))].average_rating.mean())"
   ]
  },
  {
   "cell_type": "markdown",
   "metadata": {},
   "source": [
    "We can calculate the standard deviation of the average book rating by getting the rating for different isbn for a specific literature work. This is not the standard deviation from users' rating, though."
   ]
  },
  {
   "cell_type": "code",
   "execution_count": 25,
   "metadata": {
    "collapsed": false
   },
   "outputs": [],
   "source": [
    "BookDescr['average_rating_sd'] = BookDescr.isbn10.apply(lambda x: BookRatings[BookRatings.isbn10.isin(x if type(x)=='list' else list(x))].average_rating.std())"
   ]
  },
  {
   "cell_type": "code",
   "execution_count": 27,
   "metadata": {
    "collapsed": false
   },
   "outputs": [
    {
     "data": {
      "text/plain": [
       "True     16328\n",
       "False     3677\n",
       "Name: average_rating, dtype: int64"
      ]
     },
     "execution_count": 27,
     "metadata": {},
     "output_type": "execute_result"
    }
   ],
   "source": [
    "BookDescr.average_rating.notnull().value_counts()"
   ]
  },
  {
   "cell_type": "markdown",
   "metadata": {},
   "source": [
    "There are 3,677 books that we cannot find a rating in Goodreads. Those won't be considered in this project."
   ]
  },
  {
   "cell_type": "code",
   "execution_count": 31,
   "metadata": {
    "collapsed": true
   },
   "outputs": [],
   "source": [
    "BkDescNnullAvg = BookDescr[BookDescr.average_rating.notnull()]"
   ]
  },
  {
   "cell_type": "markdown",
   "metadata": {},
   "source": [
    "Let's have a look at the histogram of the average ratings in the last dataset:"
   ]
  },
  {
   "cell_type": "code",
   "execution_count": 32,
   "metadata": {
    "collapsed": false
   },
   "outputs": [
    {
     "data": {
      "image/png": "[encoded data removed]",
      "text/plain": [
       "<matplotlib.figure.Figure at 0x7f4ceaa0f780>"
      ]
     },
     "metadata": {},
     "output_type": "display_data"
    }
   ],
   "source": [
    "BkDescNnullAvg.average_rating.hist(grid=False);"
   ]
  },
  {
   "cell_type": "markdown",
   "metadata": {},
   "source": [
    "There are a lot of books with a 0 rating. Verifying some of the records in Goodreads, those books also seem to be unrated yet. Will retain only those records that have a rating."
   ]
  },
  {
   "cell_type": "code",
   "execution_count": 33,
   "metadata": {
    "collapsed": true
   },
   "outputs": [],
   "source": [
    "BkDescNonZeroRating = BkDescNnullAvg[BkDescNnullAvg.average_rating > 0]"
   ]
  },
  {
   "cell_type": "markdown",
   "metadata": {},
   "source": [
    "Let's visualize the missing records in each of the columns. We need to transform our dataset first."
   ]
  },
  {
   "cell_type": "code",
   "execution_count": 61,
   "metadata": {
    "collapsed": false
   },
   "outputs": [
    {
     "data": {
      "text/html": [
       "<div>\n",
       "<table border=\"1\" class=\"dataframe\">\n",
       "  <thead>\n",
       "    <tr style=\"text-align: right;\">\n",
       "      <th></th>\n",
       "      <th>False</th>\n",
       "      <th>True</th>\n",
       "      <th>Total</th>\n",
       "      <th>Category</th>\n",
       "      <th>Empty</th>\n",
       "    </tr>\n",
       "  </thead>\n",
       "  <tbody>\n",
       "    <tr>\n",
       "      <th>authors</th>\n",
       "      <td>799.0</td>\n",
       "      <td>11466.0</td>\n",
       "      <td>12265.0</td>\n",
       "      <td>authors</td>\n",
       "      <td>799.0</td>\n",
       "    </tr>\n",
       "    <tr>\n",
       "      <th>by_statement</th>\n",
       "      <td>659.0</td>\n",
       "      <td>11606.0</td>\n",
       "      <td>12265.0</td>\n",
       "      <td>by_statement</td>\n",
       "      <td>659.0</td>\n",
       "    </tr>\n",
       "    <tr>\n",
       "      <th>contributions</th>\n",
       "      <td>8634.0</td>\n",
       "      <td>3631.0</td>\n",
       "      <td>12265.0</td>\n",
       "      <td>contributions</td>\n",
       "      <td>8634.0</td>\n",
       "    </tr>\n",
       "    <tr>\n",
       "      <th>contributors</th>\n",
       "      <td>12247.0</td>\n",
       "      <td>18.0</td>\n",
       "      <td>12265.0</td>\n",
       "      <td>contributors</td>\n",
       "      <td>12247.0</td>\n",
       "    </tr>\n",
       "    <tr>\n",
       "      <th>coverimage</th>\n",
       "      <td>12263.0</td>\n",
       "      <td>2.0</td>\n",
       "      <td>12265.0</td>\n",
       "      <td>coverimage</td>\n",
       "      <td>12263.0</td>\n",
       "    </tr>\n",
       "    <tr>\n",
       "      <th>covers</th>\n",
       "      <td>5301.0</td>\n",
       "      <td>6964.0</td>\n",
       "      <td>12265.0</td>\n",
       "      <td>covers</td>\n",
       "      <td>5301.0</td>\n",
       "    </tr>\n",
       "    <tr>\n",
       "      <th>created.type</th>\n",
       "      <td>561.0</td>\n",
       "      <td>11704.0</td>\n",
       "      <td>12265.0</td>\n",
       "      <td>created.type</td>\n",
       "      <td>561.0</td>\n",
       "    </tr>\n",
       "    <tr>\n",
       "      <th>created.value</th>\n",
       "      <td>561.0</td>\n",
       "      <td>11704.0</td>\n",
       "      <td>12265.0</td>\n",
       "      <td>created.value</td>\n",
       "      <td>561.0</td>\n",
       "    </tr>\n",
       "    <tr>\n",
       "      <th>description</th>\n",
       "      <td>12219.0</td>\n",
       "      <td>46.0</td>\n",
       "      <td>12265.0</td>\n",
       "      <td>description</td>\n",
       "      <td>12219.0</td>\n",
       "    </tr>\n",
       "    <tr>\n",
       "      <th>description.type</th>\n",
       "      <td>9873.0</td>\n",
       "      <td>2392.0</td>\n",
       "      <td>12265.0</td>\n",
       "      <td>description.type</td>\n",
       "      <td>9873.0</td>\n",
       "    </tr>\n",
       "    <tr>\n",
       "      <th>description.value</th>\n",
       "      <td>9873.0</td>\n",
       "      <td>2392.0</td>\n",
       "      <td>12265.0</td>\n",
       "      <td>description.value</td>\n",
       "      <td>9873.0</td>\n",
       "    </tr>\n",
       "    <tr>\n",
       "      <th>dewey_decimal_class</th>\n",
       "      <td>0.0</td>\n",
       "      <td>12265.0</td>\n",
       "      <td>12265.0</td>\n",
       "      <td>dewey_decimal_class</td>\n",
       "      <td>0.0</td>\n",
       "    </tr>\n",
       "    <tr>\n",
       "      <th>edition_name</th>\n",
       "      <td>8709.0</td>\n",
       "      <td>3556.0</td>\n",
       "      <td>12265.0</td>\n",
       "      <td>edition_name</td>\n",
       "      <td>8709.0</td>\n",
       "    </tr>\n",
       "    <tr>\n",
       "      <th>first_sentence</th>\n",
       "      <td>12265.0</td>\n",
       "      <td>0.0</td>\n",
       "      <td>12265.0</td>\n",
       "      <td>first_sentence</td>\n",
       "      <td>12265.0</td>\n",
       "    </tr>\n",
       "    <tr>\n",
       "      <th>first_sentence.type</th>\n",
       "      <td>12257.0</td>\n",
       "      <td>8.0</td>\n",
       "      <td>12265.0</td>\n",
       "      <td>first_sentence.type</td>\n",
       "      <td>12257.0</td>\n",
       "    </tr>\n",
       "    <tr>\n",
       "      <th>first_sentence.value</th>\n",
       "      <td>12257.0</td>\n",
       "      <td>8.0</td>\n",
       "      <td>12265.0</td>\n",
       "      <td>first_sentence.value</td>\n",
       "      <td>12257.0</td>\n",
       "    </tr>\n",
       "    <tr>\n",
       "      <th>full_title</th>\n",
       "      <td>12242.0</td>\n",
       "      <td>23.0</td>\n",
       "      <td>12265.0</td>\n",
       "      <td>full_title</td>\n",
       "      <td>12242.0</td>\n",
       "    </tr>\n",
       "    <tr>\n",
       "      <th>genres</th>\n",
       "      <td>9018.0</td>\n",
       "      <td>3247.0</td>\n",
       "      <td>12265.0</td>\n",
       "      <td>genres</td>\n",
       "      <td>9018.0</td>\n",
       "    </tr>\n",
       "    <tr>\n",
       "      <th>ia_loaded_id</th>\n",
       "      <td>10898.0</td>\n",
       "      <td>1367.0</td>\n",
       "      <td>12265.0</td>\n",
       "      <td>ia_loaded_id</td>\n",
       "      <td>10898.0</td>\n",
       "    </tr>\n",
       "    <tr>\n",
       "      <th>isbn_10</th>\n",
       "      <td>0.0</td>\n",
       "      <td>12265.0</td>\n",
       "      <td>12265.0</td>\n",
       "      <td>isbn_10</td>\n",
       "      <td>0.0</td>\n",
       "    </tr>\n",
       "    <tr>\n",
       "      <th>isbn_13</th>\n",
       "      <td>11591.0</td>\n",
       "      <td>674.0</td>\n",
       "      <td>12265.0</td>\n",
       "      <td>isbn_13</td>\n",
       "      <td>11591.0</td>\n",
       "    </tr>\n",
       "    <tr>\n",
       "      <th>languages</th>\n",
       "      <td>41.0</td>\n",
       "      <td>12224.0</td>\n",
       "      <td>12265.0</td>\n",
       "      <td>languages</td>\n",
       "      <td>41.0</td>\n",
       "    </tr>\n",
       "    <tr>\n",
       "      <th>last_modified.type</th>\n",
       "      <td>0.0</td>\n",
       "      <td>12265.0</td>\n",
       "      <td>12265.0</td>\n",
       "      <td>last_modified.type</td>\n",
       "      <td>0.0</td>\n",
       "    </tr>\n",
       "    <tr>\n",
       "      <th>last_modified.value</th>\n",
       "      <td>0.0</td>\n",
       "      <td>12265.0</td>\n",
       "      <td>12265.0</td>\n",
       "      <td>last_modified.value</td>\n",
       "      <td>0.0</td>\n",
       "    </tr>\n",
       "    <tr>\n",
       "      <th>latest_revision</th>\n",
       "      <td>0.0</td>\n",
       "      <td>12265.0</td>\n",
       "      <td>12265.0</td>\n",
       "      <td>latest_revision</td>\n",
       "      <td>0.0</td>\n",
       "    </tr>\n",
       "    <tr>\n",
       "      <th>lc_classifications</th>\n",
       "      <td>1448.0</td>\n",
       "      <td>10817.0</td>\n",
       "      <td>12265.0</td>\n",
       "      <td>lc_classifications</td>\n",
       "      <td>1448.0</td>\n",
       "    </tr>\n",
       "    <tr>\n",
       "      <th>links</th>\n",
       "      <td>12256.0</td>\n",
       "      <td>9.0</td>\n",
       "      <td>12265.0</td>\n",
       "      <td>links</td>\n",
       "      <td>12256.0</td>\n",
       "    </tr>\n",
       "    <tr>\n",
       "      <th>location</th>\n",
       "      <td>12249.0</td>\n",
       "      <td>16.0</td>\n",
       "      <td>12265.0</td>\n",
       "      <td>location</td>\n",
       "      <td>12249.0</td>\n",
       "    </tr>\n",
       "    <tr>\n",
       "      <th>notes</th>\n",
       "      <td>12188.0</td>\n",
       "      <td>77.0</td>\n",
       "      <td>12265.0</td>\n",
       "      <td>notes</td>\n",
       "      <td>12188.0</td>\n",
       "    </tr>\n",
       "    <tr>\n",
       "      <th>notes.type</th>\n",
       "      <td>6950.0</td>\n",
       "      <td>5315.0</td>\n",
       "      <td>12265.0</td>\n",
       "      <td>notes.type</td>\n",
       "      <td>6950.0</td>\n",
       "    </tr>\n",
       "    <tr>\n",
       "      <th>...</th>\n",
       "      <td>...</td>\n",
       "      <td>...</td>\n",
       "      <td>...</td>\n",
       "      <td>...</td>\n",
       "      <td>...</td>\n",
       "    </tr>\n",
       "    <tr>\n",
       "      <th>other_titles</th>\n",
       "      <td>11417.0</td>\n",
       "      <td>848.0</td>\n",
       "      <td>12265.0</td>\n",
       "      <td>other_titles</td>\n",
       "      <td>11417.0</td>\n",
       "    </tr>\n",
       "    <tr>\n",
       "      <th>pagination</th>\n",
       "      <td>53.0</td>\n",
       "      <td>12212.0</td>\n",
       "      <td>12265.0</td>\n",
       "      <td>pagination</td>\n",
       "      <td>53.0</td>\n",
       "    </tr>\n",
       "    <tr>\n",
       "      <th>physical_dimensions</th>\n",
       "      <td>12216.0</td>\n",
       "      <td>49.0</td>\n",
       "      <td>12265.0</td>\n",
       "      <td>physical_dimensions</td>\n",
       "      <td>12216.0</td>\n",
       "    </tr>\n",
       "    <tr>\n",
       "      <th>physical_format</th>\n",
       "      <td>12181.0</td>\n",
       "      <td>84.0</td>\n",
       "      <td>12265.0</td>\n",
       "      <td>physical_format</td>\n",
       "      <td>12181.0</td>\n",
       "    </tr>\n",
       "    <tr>\n",
       "      <th>publish_country</th>\n",
       "      <td>54.0</td>\n",
       "      <td>12211.0</td>\n",
       "      <td>12265.0</td>\n",
       "      <td>publish_country</td>\n",
       "      <td>54.0</td>\n",
       "    </tr>\n",
       "    <tr>\n",
       "      <th>publish_date</th>\n",
       "      <td>43.0</td>\n",
       "      <td>12222.0</td>\n",
       "      <td>12265.0</td>\n",
       "      <td>publish_date</td>\n",
       "      <td>43.0</td>\n",
       "    </tr>\n",
       "    <tr>\n",
       "      <th>publish_places</th>\n",
       "      <td>195.0</td>\n",
       "      <td>12070.0</td>\n",
       "      <td>12265.0</td>\n",
       "      <td>publish_places</td>\n",
       "      <td>195.0</td>\n",
       "    </tr>\n",
       "    <tr>\n",
       "      <th>publishers</th>\n",
       "      <td>4.0</td>\n",
       "      <td>12261.0</td>\n",
       "      <td>12265.0</td>\n",
       "      <td>publishers</td>\n",
       "      <td>4.0</td>\n",
       "    </tr>\n",
       "    <tr>\n",
       "      <th>revision</th>\n",
       "      <td>0.0</td>\n",
       "      <td>12265.0</td>\n",
       "      <td>12265.0</td>\n",
       "      <td>revision</td>\n",
       "      <td>0.0</td>\n",
       "    </tr>\n",
       "    <tr>\n",
       "      <th>series</th>\n",
       "      <td>8894.0</td>\n",
       "      <td>3371.0</td>\n",
       "      <td>12265.0</td>\n",
       "      <td>series</td>\n",
       "      <td>8894.0</td>\n",
       "    </tr>\n",
       "    <tr>\n",
       "      <th>source_records</th>\n",
       "      <td>6862.0</td>\n",
       "      <td>5403.0</td>\n",
       "      <td>12265.0</td>\n",
       "      <td>source_records</td>\n",
       "      <td>6862.0</td>\n",
       "    </tr>\n",
       "    <tr>\n",
       "      <th>subject_place</th>\n",
       "      <td>9054.0</td>\n",
       "      <td>3211.0</td>\n",
       "      <td>12265.0</td>\n",
       "      <td>subject_place</td>\n",
       "      <td>9054.0</td>\n",
       "    </tr>\n",
       "    <tr>\n",
       "      <th>subject_places</th>\n",
       "      <td>12264.0</td>\n",
       "      <td>1.0</td>\n",
       "      <td>12265.0</td>\n",
       "      <td>subject_places</td>\n",
       "      <td>12264.0</td>\n",
       "    </tr>\n",
       "    <tr>\n",
       "      <th>subject_time</th>\n",
       "      <td>10922.0</td>\n",
       "      <td>1343.0</td>\n",
       "      <td>12265.0</td>\n",
       "      <td>subject_time</td>\n",
       "      <td>10922.0</td>\n",
       "    </tr>\n",
       "    <tr>\n",
       "      <th>subject_times</th>\n",
       "      <td>12265.0</td>\n",
       "      <td>0.0</td>\n",
       "      <td>12265.0</td>\n",
       "      <td>subject_times</td>\n",
       "      <td>12265.0</td>\n",
       "    </tr>\n",
       "    <tr>\n",
       "      <th>subjects</th>\n",
       "      <td>3224.0</td>\n",
       "      <td>9041.0</td>\n",
       "      <td>12265.0</td>\n",
       "      <td>subjects</td>\n",
       "      <td>3224.0</td>\n",
       "    </tr>\n",
       "    <tr>\n",
       "      <th>subtitle</th>\n",
       "      <td>8711.0</td>\n",
       "      <td>3554.0</td>\n",
       "      <td>12265.0</td>\n",
       "      <td>subtitle</td>\n",
       "      <td>8711.0</td>\n",
       "    </tr>\n",
       "    <tr>\n",
       "      <th>table_of_contents</th>\n",
       "      <td>11671.0</td>\n",
       "      <td>594.0</td>\n",
       "      <td>12265.0</td>\n",
       "      <td>table_of_contents</td>\n",
       "      <td>11671.0</td>\n",
       "    </tr>\n",
       "    <tr>\n",
       "      <th>title</th>\n",
       "      <td>0.0</td>\n",
       "      <td>12265.0</td>\n",
       "      <td>12265.0</td>\n",
       "      <td>title</td>\n",
       "      <td>0.0</td>\n",
       "    </tr>\n",
       "    <tr>\n",
       "      <th>title_prefix</th>\n",
       "      <td>10872.0</td>\n",
       "      <td>1393.0</td>\n",
       "      <td>12265.0</td>\n",
       "      <td>title_prefix</td>\n",
       "      <td>10872.0</td>\n",
       "    </tr>\n",
       "    <tr>\n",
       "      <th>translated_from</th>\n",
       "      <td>12263.0</td>\n",
       "      <td>2.0</td>\n",
       "      <td>12265.0</td>\n",
       "      <td>translated_from</td>\n",
       "      <td>12263.0</td>\n",
       "    </tr>\n",
       "    <tr>\n",
       "      <th>translation_of</th>\n",
       "      <td>12263.0</td>\n",
       "      <td>2.0</td>\n",
       "      <td>12265.0</td>\n",
       "      <td>translation_of</td>\n",
       "      <td>12263.0</td>\n",
       "    </tr>\n",
       "    <tr>\n",
       "      <th>type.key</th>\n",
       "      <td>0.0</td>\n",
       "      <td>12265.0</td>\n",
       "      <td>12265.0</td>\n",
       "      <td>type.key</td>\n",
       "      <td>0.0</td>\n",
       "    </tr>\n",
       "    <tr>\n",
       "      <th>uri_descriptions</th>\n",
       "      <td>10991.0</td>\n",
       "      <td>1274.0</td>\n",
       "      <td>12265.0</td>\n",
       "      <td>uri_descriptions</td>\n",
       "      <td>10991.0</td>\n",
       "    </tr>\n",
       "    <tr>\n",
       "      <th>uris</th>\n",
       "      <td>10990.0</td>\n",
       "      <td>1275.0</td>\n",
       "      <td>12265.0</td>\n",
       "      <td>uris</td>\n",
       "      <td>10990.0</td>\n",
       "    </tr>\n",
       "    <tr>\n",
       "      <th>url</th>\n",
       "      <td>10922.0</td>\n",
       "      <td>1343.0</td>\n",
       "      <td>12265.0</td>\n",
       "      <td>url</td>\n",
       "      <td>10922.0</td>\n",
       "    </tr>\n",
       "    <tr>\n",
       "      <th>weight</th>\n",
       "      <td>12253.0</td>\n",
       "      <td>12.0</td>\n",
       "      <td>12265.0</td>\n",
       "      <td>weight</td>\n",
       "      <td>12253.0</td>\n",
       "    </tr>\n",
       "    <tr>\n",
       "      <th>work_title</th>\n",
       "      <td>11417.0</td>\n",
       "      <td>848.0</td>\n",
       "      <td>12265.0</td>\n",
       "      <td>work_title</td>\n",
       "      <td>11417.0</td>\n",
       "    </tr>\n",
       "    <tr>\n",
       "      <th>work_titles</th>\n",
       "      <td>12037.0</td>\n",
       "      <td>228.0</td>\n",
       "      <td>12265.0</td>\n",
       "      <td>work_titles</td>\n",
       "      <td>12037.0</td>\n",
       "    </tr>\n",
       "    <tr>\n",
       "      <th>works</th>\n",
       "      <td>908.0</td>\n",
       "      <td>11357.0</td>\n",
       "      <td>12265.0</td>\n",
       "      <td>works</td>\n",
       "      <td>908.0</td>\n",
       "    </tr>\n",
       "  </tbody>\n",
       "</table>\n",
       "<p>62 rows × 5 columns</p>\n",
       "</div>"
      ],
      "text/plain": [
       "                        False     True    Total              Category    Empty\n",
       "authors                 799.0  11466.0  12265.0               authors    799.0\n",
       "by_statement            659.0  11606.0  12265.0          by_statement    659.0\n",
       "contributions          8634.0   3631.0  12265.0         contributions   8634.0\n",
       "contributors          12247.0     18.0  12265.0          contributors  12247.0\n",
       "coverimage            12263.0      2.0  12265.0            coverimage  12263.0\n",
       "covers                 5301.0   6964.0  12265.0                covers   5301.0\n",
       "created.type            561.0  11704.0  12265.0          created.type    561.0\n",
       "created.value           561.0  11704.0  12265.0         created.value    561.0\n",
       "description           12219.0     46.0  12265.0           description  12219.0\n",
       "description.type       9873.0   2392.0  12265.0      description.type   9873.0\n",
       "description.value      9873.0   2392.0  12265.0     description.value   9873.0\n",
       "dewey_decimal_class       0.0  12265.0  12265.0   dewey_decimal_class      0.0\n",
       "edition_name           8709.0   3556.0  12265.0          edition_name   8709.0\n",
       "first_sentence        12265.0      0.0  12265.0        first_sentence  12265.0\n",
       "first_sentence.type   12257.0      8.0  12265.0   first_sentence.type  12257.0\n",
       "first_sentence.value  12257.0      8.0  12265.0  first_sentence.value  12257.0\n",
       "full_title            12242.0     23.0  12265.0            full_title  12242.0\n",
       "genres                 9018.0   3247.0  12265.0                genres   9018.0\n",
       "ia_loaded_id          10898.0   1367.0  12265.0          ia_loaded_id  10898.0\n",
       "isbn_10                   0.0  12265.0  12265.0               isbn_10      0.0\n",
       "isbn_13               11591.0    674.0  12265.0               isbn_13  11591.0\n",
       "languages                41.0  12224.0  12265.0             languages     41.0\n",
       "last_modified.type        0.0  12265.0  12265.0    last_modified.type      0.0\n",
       "last_modified.value       0.0  12265.0  12265.0   last_modified.value      0.0\n",
       "latest_revision           0.0  12265.0  12265.0       latest_revision      0.0\n",
       "lc_classifications     1448.0  10817.0  12265.0    lc_classifications   1448.0\n",
       "links                 12256.0      9.0  12265.0                 links  12256.0\n",
       "location              12249.0     16.0  12265.0              location  12249.0\n",
       "notes                 12188.0     77.0  12265.0                 notes  12188.0\n",
       "notes.type             6950.0   5315.0  12265.0            notes.type   6950.0\n",
       "...                       ...      ...      ...                   ...      ...\n",
       "other_titles          11417.0    848.0  12265.0          other_titles  11417.0\n",
       "pagination               53.0  12212.0  12265.0            pagination     53.0\n",
       "physical_dimensions   12216.0     49.0  12265.0   physical_dimensions  12216.0\n",
       "physical_format       12181.0     84.0  12265.0       physical_format  12181.0\n",
       "publish_country          54.0  12211.0  12265.0       publish_country     54.0\n",
       "publish_date             43.0  12222.0  12265.0          publish_date     43.0\n",
       "publish_places          195.0  12070.0  12265.0        publish_places    195.0\n",
       "publishers                4.0  12261.0  12265.0            publishers      4.0\n",
       "revision                  0.0  12265.0  12265.0              revision      0.0\n",
       "series                 8894.0   3371.0  12265.0                series   8894.0\n",
       "source_records         6862.0   5403.0  12265.0        source_records   6862.0\n",
       "subject_place          9054.0   3211.0  12265.0         subject_place   9054.0\n",
       "subject_places        12264.0      1.0  12265.0        subject_places  12264.0\n",
       "subject_time          10922.0   1343.0  12265.0          subject_time  10922.0\n",
       "subject_times         12265.0      0.0  12265.0         subject_times  12265.0\n",
       "subjects               3224.0   9041.0  12265.0              subjects   3224.0\n",
       "subtitle               8711.0   3554.0  12265.0              subtitle   8711.0\n",
       "table_of_contents     11671.0    594.0  12265.0     table_of_contents  11671.0\n",
       "title                     0.0  12265.0  12265.0                 title      0.0\n",
       "title_prefix          10872.0   1393.0  12265.0          title_prefix  10872.0\n",
       "translated_from       12263.0      2.0  12265.0       translated_from  12263.0\n",
       "translation_of        12263.0      2.0  12265.0        translation_of  12263.0\n",
       "type.key                  0.0  12265.0  12265.0              type.key      0.0\n",
       "uri_descriptions      10991.0   1274.0  12265.0      uri_descriptions  10991.0\n",
       "uris                  10990.0   1275.0  12265.0                  uris  10990.0\n",
       "url                   10922.0   1343.0  12265.0                   url  10922.0\n",
       "weight                12253.0     12.0  12265.0                weight  12253.0\n",
       "work_title            11417.0    848.0  12265.0            work_title  11417.0\n",
       "work_titles           12037.0    228.0  12265.0           work_titles  12037.0\n",
       "works                   908.0  11357.0  12265.0                 works    908.0\n",
       "\n",
       "[62 rows x 5 columns]"
      ]
     },
     "execution_count": 61,
     "metadata": {},
     "output_type": "execute_result"
    }
   ],
   "source": [
    "BkValRatio = BkDescNonZeroRating[BkDescNonZeroRating.columns[1:63]].notnull()\n",
    "newDF = pd.DataFrame()\n",
    "for i in BkValRatio.columns:\n",
    "    newDF = pd.DataFrame.append(newDF, BkValRatio[i].value_counts().sort_index()) \n",
    "newDF.fillna(0,  inplace=True)\n",
    "newDF['Total'] = newDF[0]+newDF[1]\n",
    "newDF['Category']=newDF.index\n",
    "newDF['Empty'] = newDF[0]\n",
    "newDF"
   ]
  },
  {
   "cell_type": "code",
   "execution_count": 62,
   "metadata": {
    "collapsed": false,
    "scrolled": false
   },
   "outputs": [
    {
     "data": {
      "image/png": "[encoded data removed]",
      "text/plain": [
       "<matplotlib.figure.Figure at 0x7f4ce562f358>"
      ]
     },
     "metadata": {},
     "output_type": "display_data"
    }
   ],
   "source": [
    "import seaborn as sns\n",
    "import matplotlib.pyplot as plt\n",
    "sns.set(style=\"whitegrid\")\n",
    "\n",
    "# Initialize the matplotlib figure\n",
    "f, ax = plt.subplots(figsize=(6, 15))\n",
    "\n",
    "\n",
    "# Plot the total records\n",
    "sns.set_color_codes(\"pastel\")\n",
    "sns.barplot(x=\"Total\", y=\"Category\", data=newDF,\n",
    "            label=\"Total\", color=\"b\")\n",
    "\n",
    "# Plot missing values\n",
    "sns.set_color_codes(\"muted\")\n",
    "sns.barplot(x=\"Empty\", y=\"Category\", data=newDF,\n",
    "            label=\"Missing\", color=\"r\")\n",
    "\n",
    "# Add a legend and informative axis label\n",
    "ax.legend(ncol=2, loc=\"lower right\", frameon=True)\n",
    "ax.set(xlim=(0, newDF.Total[0]), ylabel=\"\",\n",
    "       xlabel=\"Ratio of missing values\")\n",
    "sns.despine(left=True, bottom=True)"
   ]
  },
  {
   "cell_type": "markdown",
   "metadata": {},
   "source": [
    "The above chart visualizes the rate of missing vs existing values for each column in the table.\n",
    "\n",
    "We can remove some of the classification columns:"
   ]
  },
  {
   "cell_type": "code",
   "execution_count": 56,
   "metadata": {
    "collapsed": false
   },
   "outputs": [
    {
     "name": "stderr",
     "output_type": "stream",
     "text": [
      "/home/kliton/anaconda3/lib/python3.5/site-packages/ipykernel/__main__.py:3: SettingWithCopyWarning: \n",
      "A value is trying to be set on a copy of a slice from a DataFrame\n",
      "\n",
      "See the caveats in the documentation: http://pandas.pydata.org/pandas-docs/stable/indexing.html#indexing-view-versus-copy\n",
      "  app.launch_new_instance()\n"
     ]
    }
   ],
   "source": [
    "columns2remove = ['ocaid', 'classifications.udc', 'create', 'isbn_invalid', 'copyright_date', 'key', 'lccn', 'ia_box_id', 'oclc_number', 'oclc_numbers']\n",
    "\n",
    "BkDescNonZeroRating.drop(columns2remove, inplace=True, axis=1)"
   ]
  },
  {
   "cell_type": "code",
   "execution_count": 67,
   "metadata": {
    "collapsed": false,
    "scrolled": false
   },
   "outputs": [
    {
     "data": {
      "text/plain": [
       "/static/images/book.trans.gif                                    1\n",
       "/static/files//563/OL2839307M_coverimage_1218051658274563.jpg    1\n",
       "Name: coverimage, dtype: int64"
      ]
     },
     "execution_count": 67,
     "metadata": {},
     "output_type": "execute_result"
    }
   ],
   "source": [
    "BkDescNonZeroRating.coverimage.value_counts()"
   ]
  },
  {
   "cell_type": "code",
   "execution_count": 648,
   "metadata": {
    "collapsed": true
   },
   "outputs": [],
   "source": [
    "def getFirstDeweyGroup(dewey_class):\n",
    "    val = re.findall('8[0-9]{2}', dewey_class) if '8' in dewey_class else dewey_class\n",
    "    if type(val) == list and len(val) > 0:\n",
    "        return val[0]\n",
    "    # E is mainly educational for little kids\n",
    "    if 'E' in dewey_class:\n",
    "        return 'Educational'\n",
    "    # Fic is for fictional\n",
    "    if 'F' in dewey_class:\n",
    "        return 'Fictional'\n",
    "    return eval(dewey_class)[0]"
   ]
  },
  {
   "cell_type": "code",
   "execution_count": 649,
   "metadata": {
    "collapsed": false
   },
   "outputs": [],
   "source": [
    "DeweyParsed = BkDescNonZeroRating.dewey_decimal_class.apply(lambda x: getFirstDeweyGroup(x))\n",
    "#re.findall('8[0-9]{2}', DeweyParsed.iloc[22]) if '8' in DeweyParsed.iloc[22] else DeweyParsed.iloc[22]\n",
    "#DeweyParsed.iloc[0][0]"
   ]
  },
  {
   "cell_type": "code",
   "execution_count": 651,
   "metadata": {
    "collapsed": false
   },
   "outputs": [
    {
     "data": {
      "text/plain": [
       "83"
      ]
     },
     "execution_count": 651,
     "metadata": {},
     "output_type": "execute_result"
    }
   ],
   "source": [
    "len(DeweyParsed.value_counts())"
   ]
  },
  {
   "cell_type": "code",
   "execution_count": 652,
   "metadata": {
    "collapsed": false,
    "scrolled": true
   },
   "outputs": [
    {
     "name": "stderr",
     "output_type": "stream",
     "text": [
      "/home/kliton/anaconda3/lib/python3.5/site-packages/ipykernel/__main__.py:1: SettingWithCopyWarning: \n",
      "A value is trying to be set on a copy of a slice from a DataFrame.\n",
      "Try using .loc[row_indexer,col_indexer] = value instead\n",
      "\n",
      "See the caveats in the documentation: http://pandas.pydata.org/pandas-docs/stable/indexing.html#indexing-view-versus-copy\n",
      "  if __name__ == '__main__':\n"
     ]
    }
   ],
   "source": [
    "BkDescNonZeroRating['dewey_parsed'] = DeweyParsed"
   ]
  },
  {
   "cell_type": "code",
   "execution_count": 654,
   "metadata": {
    "collapsed": false
   },
   "outputs": [
    {
     "data": {
      "text/plain": [
       "813            3530\n",
       "823            2200\n",
       "Educational    1258\n",
       "Fictional      1192\n",
       "811             654\n",
       "808             384\n",
       "821             361\n",
       "822             243\n",
       "843             236\n",
       "891             172\n",
       "Name: dewey_parsed, dtype: int64"
      ]
     },
     "execution_count": 654,
     "metadata": {},
     "output_type": "execute_result"
    }
   ],
   "source": [
    "BkDescNonZeroRating.dewey_parsed.value_counts().head(10)"
   ]
  },
  {
   "cell_type": "markdown",
   "metadata": {},
   "source": [
    "### Authors data"
   ]
  },
  {
   "cell_type": "code",
   "execution_count": 69,
   "metadata": {
    "collapsed": false
   },
   "outputs": [],
   "source": [
    "AuthorDFDump = pd.read_csv('/home/kliton/Downloads/ol_dump_authors_2017-01-31.txt', sep='\\t', header=None)"
   ]
  },
  {
   "cell_type": "code",
   "execution_count": 70,
   "metadata": {
    "collapsed": false
   },
   "outputs": [
    {
     "data": {
      "text/html": [
       "<div>\n",
       "<table border=\"1\" class=\"dataframe\">\n",
       "  <thead>\n",
       "    <tr style=\"text-align: right;\">\n",
       "      <th></th>\n",
       "      <th>0</th>\n",
       "      <th>1</th>\n",
       "      <th>2</th>\n",
       "      <th>3</th>\n",
       "      <th>4</th>\n",
       "    </tr>\n",
       "  </thead>\n",
       "  <tbody>\n",
       "    <tr>\n",
       "      <th>0</th>\n",
       "      <td>/type/author</td>\n",
       "      <td>/authors/OL1000057A</td>\n",
       "      <td>2</td>\n",
       "      <td>2008-08-20T17:57:09.66187</td>\n",
       "      <td>{\"name\": \"Kha\\u0304lid Muh\\u0323ammad \\u02bbAl...</td>\n",
       "    </tr>\n",
       "    <tr>\n",
       "      <th>1</th>\n",
       "      <td>/type/author</td>\n",
       "      <td>/authors/OL100029A</td>\n",
       "      <td>2</td>\n",
       "      <td>2008-09-08T16:19:17.29978</td>\n",
       "      <td>{\"name\": \"K. Hardono\", \"personal_name\": \"K. Ha...</td>\n",
       "    </tr>\n",
       "    <tr>\n",
       "      <th>2</th>\n",
       "      <td>/type/author</td>\n",
       "      <td>/authors/OL1000624A</td>\n",
       "      <td>2</td>\n",
       "      <td>2008-08-20T17:58:34.686964</td>\n",
       "      <td>{\"name\": \"Nu\\u0304r al-Di\\u0304n S\\u0323ammu\\u...</td>\n",
       "    </tr>\n",
       "    <tr>\n",
       "      <th>3</th>\n",
       "      <td>/type/author</td>\n",
       "      <td>/authors/OL1000703A</td>\n",
       "      <td>2</td>\n",
       "      <td>2008-08-20T17:58:45.326121</td>\n",
       "      <td>{\"name\": \"Mawlu\\u0304d Qa\\u0304sim Na\\u0304yit...</td>\n",
       "    </tr>\n",
       "    <tr>\n",
       "      <th>4</th>\n",
       "      <td>/type/author</td>\n",
       "      <td>/authors/OL1001014A</td>\n",
       "      <td>2</td>\n",
       "      <td>2008-08-20T17:59:35.453547</td>\n",
       "      <td>{\"name\": \"Ali Ak\", \"personal_name\": \"Ali Ak\", ...</td>\n",
       "    </tr>\n",
       "  </tbody>\n",
       "</table>\n",
       "</div>"
      ],
      "text/plain": [
       "              0                    1  2                           3  \\\n",
       "0  /type/author  /authors/OL1000057A  2   2008-08-20T17:57:09.66187   \n",
       "1  /type/author   /authors/OL100029A  2   2008-09-08T16:19:17.29978   \n",
       "2  /type/author  /authors/OL1000624A  2  2008-08-20T17:58:34.686964   \n",
       "3  /type/author  /authors/OL1000703A  2  2008-08-20T17:58:45.326121   \n",
       "4  /type/author  /authors/OL1001014A  2  2008-08-20T17:59:35.453547   \n",
       "\n",
       "                                                   4  \n",
       "0  {\"name\": \"Kha\\u0304lid Muh\\u0323ammad \\u02bbAl...  \n",
       "1  {\"name\": \"K. Hardono\", \"personal_name\": \"K. Ha...  \n",
       "2  {\"name\": \"Nu\\u0304r al-Di\\u0304n S\\u0323ammu\\u...  \n",
       "3  {\"name\": \"Mawlu\\u0304d Qa\\u0304sim Na\\u0304yit...  \n",
       "4  {\"name\": \"Ali Ak\", \"personal_name\": \"Ali Ak\", ...  "
      ]
     },
     "execution_count": 70,
     "metadata": {},
     "output_type": "execute_result"
    }
   ],
   "source": [
    "AuthorDFDump.head()"
   ]
  },
  {
   "cell_type": "code",
   "execution_count": 71,
   "metadata": {
    "collapsed": false
   },
   "outputs": [],
   "source": [
    "from pandas.io.json import json_normalize\n",
    "#AuthorDF[AuthorDF[1] == '/authors/OL1000057A'][4][0]"
   ]
  },
  {
   "cell_type": "code",
   "execution_count": 148,
   "metadata": {
    "collapsed": false
   },
   "outputs": [],
   "source": [
    "AuthorDFDump = AuthorDFDump[AuthorDFDump[1].isin(\n",
    "    filter(None, [(eval(i)[0]['key'] if type(i)==str else'') for i in BkDescNonZeroRating.authors]))]\n"
   ]
  },
  {
   "cell_type": "code",
   "execution_count": 166,
   "metadata": {
    "collapsed": false
   },
   "outputs": [
    {
     "data": {
      "text/html": [
       "<div>\n",
       "<table border=\"1\" class=\"dataframe\">\n",
       "  <thead>\n",
       "    <tr style=\"text-align: right;\">\n",
       "      <th></th>\n",
       "      <th>alternate_names</th>\n",
       "      <th>bio</th>\n",
       "      <th>bio.type</th>\n",
       "      <th>bio.value</th>\n",
       "      <th>birth_date</th>\n",
       "      <th>comment</th>\n",
       "      <th>created.type</th>\n",
       "      <th>created.value</th>\n",
       "      <th>date</th>\n",
       "      <th>death_date</th>\n",
       "      <th>...</th>\n",
       "      <th>personal_name</th>\n",
       "      <th>photograph</th>\n",
       "      <th>photos</th>\n",
       "      <th>revision</th>\n",
       "      <th>role</th>\n",
       "      <th>tags</th>\n",
       "      <th>title</th>\n",
       "      <th>type.key</th>\n",
       "      <th>website</th>\n",
       "      <th>wikipedia</th>\n",
       "    </tr>\n",
       "  </thead>\n",
       "  <tbody>\n",
       "    <tr>\n",
       "      <th>0</th>\n",
       "      <td>[Strong Jeremy]</td>\n",
       "      <td>NaN</td>\n",
       "      <td>NaN</td>\n",
       "      <td>NaN</td>\n",
       "      <td>1949</td>\n",
       "      <td>NaN</td>\n",
       "      <td>/type/datetime</td>\n",
       "      <td>2008-04-01T03:28:50.625462</td>\n",
       "      <td>NaN</td>\n",
       "      <td>NaN</td>\n",
       "      <td>...</td>\n",
       "      <td>Jeremy Strong</td>\n",
       "      <td>NaN</td>\n",
       "      <td>NaN</td>\n",
       "      <td>3</td>\n",
       "      <td>NaN</td>\n",
       "      <td>NaN</td>\n",
       "      <td>NaN</td>\n",
       "      <td>/type/author</td>\n",
       "      <td>NaN</td>\n",
       "      <td>NaN</td>\n",
       "    </tr>\n",
       "    <tr>\n",
       "      <th>0</th>\n",
       "      <td>NaN</td>\n",
       "      <td>NaN</td>\n",
       "      <td>NaN</td>\n",
       "      <td>NaN</td>\n",
       "      <td>1943</td>\n",
       "      <td>NaN</td>\n",
       "      <td>NaN</td>\n",
       "      <td>NaN</td>\n",
       "      <td>NaN</td>\n",
       "      <td>NaN</td>\n",
       "      <td>...</td>\n",
       "      <td>Sylvia Kasey Marks</td>\n",
       "      <td>NaN</td>\n",
       "      <td>NaN</td>\n",
       "      <td>2</td>\n",
       "      <td>NaN</td>\n",
       "      <td>NaN</td>\n",
       "      <td>NaN</td>\n",
       "      <td>/type/author</td>\n",
       "      <td>NaN</td>\n",
       "      <td>NaN</td>\n",
       "    </tr>\n",
       "    <tr>\n",
       "      <th>0</th>\n",
       "      <td>NaN</td>\n",
       "      <td>NaN</td>\n",
       "      <td>NaN</td>\n",
       "      <td>NaN</td>\n",
       "      <td>1878</td>\n",
       "      <td>NaN</td>\n",
       "      <td>/type/datetime</td>\n",
       "      <td>2008-04-01T03:28:50.625462</td>\n",
       "      <td>NaN</td>\n",
       "      <td>1956</td>\n",
       "      <td>...</td>\n",
       "      <td>Aino Krohn Kallas</td>\n",
       "      <td>NaN</td>\n",
       "      <td>NaN</td>\n",
       "      <td>3</td>\n",
       "      <td>NaN</td>\n",
       "      <td>NaN</td>\n",
       "      <td>NaN</td>\n",
       "      <td>/type/author</td>\n",
       "      <td>NaN</td>\n",
       "      <td>NaN</td>\n",
       "    </tr>\n",
       "    <tr>\n",
       "      <th>0</th>\n",
       "      <td>NaN</td>\n",
       "      <td>NaN</td>\n",
       "      <td>NaN</td>\n",
       "      <td>NaN</td>\n",
       "      <td>NaN</td>\n",
       "      <td>NaN</td>\n",
       "      <td>NaN</td>\n",
       "      <td>NaN</td>\n",
       "      <td>NaN</td>\n",
       "      <td>NaN</td>\n",
       "      <td>...</td>\n",
       "      <td>Berckman, Evelyn.</td>\n",
       "      <td>NaN</td>\n",
       "      <td>NaN</td>\n",
       "      <td>1</td>\n",
       "      <td>NaN</td>\n",
       "      <td>NaN</td>\n",
       "      <td>NaN</td>\n",
       "      <td>/type/author</td>\n",
       "      <td>NaN</td>\n",
       "      <td>NaN</td>\n",
       "    </tr>\n",
       "    <tr>\n",
       "      <th>0</th>\n",
       "      <td>[Waugh/Evelyn, Evelyn. Waugh]</td>\n",
       "      <td>NaN</td>\n",
       "      <td>NaN</td>\n",
       "      <td>NaN</td>\n",
       "      <td>1903</td>\n",
       "      <td>NaN</td>\n",
       "      <td>/type/datetime</td>\n",
       "      <td>2008-04-01T03:28:50.625462</td>\n",
       "      <td>NaN</td>\n",
       "      <td>1966</td>\n",
       "      <td>...</td>\n",
       "      <td>Evelyn Waugh</td>\n",
       "      <td>NaN</td>\n",
       "      <td>NaN</td>\n",
       "      <td>3</td>\n",
       "      <td>NaN</td>\n",
       "      <td>NaN</td>\n",
       "      <td>NaN</td>\n",
       "      <td>/type/author</td>\n",
       "      <td>NaN</td>\n",
       "      <td>NaN</td>\n",
       "    </tr>\n",
       "  </tbody>\n",
       "</table>\n",
       "<p>5 rows × 30 columns</p>\n",
       "</div>"
      ],
      "text/plain": [
       "                 alternate_names  bio bio.type bio.value birth_date comment  \\\n",
       "0                [Strong Jeremy]  NaN      NaN       NaN       1949     NaN   \n",
       "0                            NaN  NaN      NaN       NaN       1943     NaN   \n",
       "0                            NaN  NaN      NaN       NaN       1878     NaN   \n",
       "0                            NaN  NaN      NaN       NaN        NaN     NaN   \n",
       "0  [Waugh/Evelyn, Evelyn. Waugh]  NaN      NaN       NaN       1903     NaN   \n",
       "\n",
       "     created.type               created.value date death_date    ...     \\\n",
       "0  /type/datetime  2008-04-01T03:28:50.625462  NaN        NaN    ...      \n",
       "0             NaN                         NaN  NaN        NaN    ...      \n",
       "0  /type/datetime  2008-04-01T03:28:50.625462  NaN       1956    ...      \n",
       "0             NaN                         NaN  NaN        NaN    ...      \n",
       "0  /type/datetime  2008-04-01T03:28:50.625462  NaN       1966    ...      \n",
       "\n",
       "        personal_name photograph photos revision role  tags title  \\\n",
       "0       Jeremy Strong        NaN    NaN        3  NaN   NaN   NaN   \n",
       "0  Sylvia Kasey Marks        NaN    NaN        2  NaN   NaN   NaN   \n",
       "0   Aino Krohn Kallas        NaN    NaN        3  NaN   NaN   NaN   \n",
       "0   Berckman, Evelyn.        NaN    NaN        1  NaN   NaN   NaN   \n",
       "0        Evelyn Waugh        NaN    NaN        3  NaN   NaN   NaN   \n",
       "\n",
       "       type.key website wikipedia  \n",
       "0  /type/author     NaN       NaN  \n",
       "0  /type/author     NaN       NaN  \n",
       "0  /type/author     NaN       NaN  \n",
       "0  /type/author     NaN       NaN  \n",
       "0  /type/author     NaN       NaN  \n",
       "\n",
       "[5 rows x 30 columns]"
      ]
     },
     "execution_count": 166,
     "metadata": {},
     "output_type": "execute_result"
    }
   ],
   "source": [
    "AuthorsDF = pd.DataFrame() \n",
    "for record in AuthorDFDump[4]:\n",
    "    AuthorsDF = pd.DataFrame.append(AuthorsDF, json_normalize(json.loads(record)))\n",
    "AuthorsDF.head()"
   ]
  },
  {
   "cell_type": "code",
   "execution_count": 175,
   "metadata": {
    "collapsed": false
   },
   "outputs": [
    {
     "data": {
      "text/plain": [
       "1949    84\n",
       "1940    80\n",
       "1947    77\n",
       "1942    75\n",
       "1952    73\n",
       "Name: birth_date, dtype: int64"
      ]
     },
     "execution_count": 175,
     "metadata": {},
     "output_type": "execute_result"
    }
   ],
   "source": [
    "AuthorsDF.birth_date.value_counts().head()"
   ]
  },
  {
   "cell_type": "code",
   "execution_count": 171,
   "metadata": {
    "collapsed": false
   },
   "outputs": [
    {
     "data": {
      "text/plain": [
       "False    8563\n",
       "True      180\n",
       "Name: wikipedia, dtype: int64"
      ]
     },
     "execution_count": 171,
     "metadata": {},
     "output_type": "execute_result"
    }
   ],
   "source": [
    "AuthorsDF['wikipedia'].notnull().value_counts()"
   ]
  },
  {
   "cell_type": "code",
   "execution_count": 267,
   "metadata": {
    "collapsed": true
   },
   "outputs": [],
   "source": [
    "from datetime import datetime\n",
    "from dateutil.parser import parse\n",
    "import re"
   ]
  },
  {
   "cell_type": "code",
   "execution_count": 496,
   "metadata": {
    "collapsed": false
   },
   "outputs": [],
   "source": [
    "def parseDate(datestr):\n",
    "    retVal = ''\n",
    "    #most likely not a valid date\n",
    "    if len(str(datestr)) < 4:\n",
    "        return retVal\n",
    "    \n",
    "    # retrieve B.C. years\n",
    "    if len(re.findall('(B.\\s*C.)|(b.\\s*c.)', str(datestr))) > 0:\n",
    "        yearValue = re.findall('\\d*', str(datestr))\n",
    "        if len(yearValue) > 0:\n",
    "            nonEmpty = list(filter(None, yearValue))\n",
    "            return -int(nonEmpty[0])\n",
    "    if 'cent' in datestr:\n",
    "        centList = re.findall('\\d*', str(datestr))\n",
    "        century = list(filter(None, centList))\n",
    "        return int(century[0])\n",
    "    # removing dots as it can cause the parsing to fail\n",
    "    datestr = datestr.replace('.', '')\n",
    "    \n",
    "    # will try parsing out a date from timedate string\n",
    "    try:\n",
    "        retVal = parse(datestr, fuzzy=True) if type(datestr)==str else ''\n",
    "    except ValueError:\n",
    "        # will try to find the first 4 number to define a year\n",
    "        regexVal = re.findall('\\d{4}',str(datestr))\n",
    "        if len(regexVal) > 0:\n",
    "            return parse(regexVal[0], fuzzy=True)\n",
    "    return retVal\n",
    "            \n"
   ]
  },
  {
   "cell_type": "code",
   "execution_count": 467,
   "metadata": {
    "collapsed": false
   },
   "outputs": [],
   "source": [
    "AuthorsDF['birthdate_parsed'] = AuthorsDF.birth_date.apply(lambda x: parseDate(x))"
   ]
  },
  {
   "cell_type": "code",
   "execution_count": 298,
   "metadata": {
    "collapsed": false
   },
   "outputs": [
    {
     "data": {
      "text/plain": [
       "0                 Strong Jeremy\n",
       "0                           NaN\n",
       "0                           NaN\n",
       "0                           NaN\n",
       "0    Waugh/Evelyn Evelyn. Waugh\n",
       "Name: alternate_names, dtype: object"
      ]
     },
     "execution_count": 298,
     "metadata": {},
     "output_type": "execute_result"
    }
   ],
   "source": [
    "AuthorsDF.alternate_names.apply(lambda x: ' '.join(x) if type(x)==list else x).head()"
   ]
  },
  {
   "cell_type": "code",
   "execution_count": 425,
   "metadata": {
    "collapsed": false
   },
   "outputs": [
    {
     "data": {
      "text/plain": [
       "Index(['alternate_names', 'bio', 'bio.value', 'birth_date', 'created.type',\n",
       "       'created.value', 'date', 'death_date', 'entity_type', 'fuller_name',\n",
       "       'key', 'last_modified.value', 'latest_revision', 'links', 'location',\n",
       "       'name', 'personal_name', 'revision', 'tags', 'title', 'website',\n",
       "       'wikipedia', 'birthdate_parsed', 'deathdate_parsed'],\n",
       "      dtype='object')"
      ]
     },
     "execution_count": 425,
     "metadata": {},
     "output_type": "execute_result"
    }
   ],
   "source": [
    "AuthorsDF.columns"
   ]
  },
  {
   "cell_type": "code",
   "execution_count": 382,
   "metadata": {
    "collapsed": false
   },
   "outputs": [],
   "source": [
    "AuthorsDF['deathdate_parsed'] = AuthorsDF.death_date.apply(lambda x: parseDate(x))"
   ]
  },
  {
   "cell_type": "code",
   "execution_count": 443,
   "metadata": {
    "collapsed": false
   },
   "outputs": [
    {
     "data": {
      "text/plain": [
       "int"
      ]
     },
     "execution_count": 443,
     "metadata": {},
     "output_type": "execute_result"
    }
   ],
   "source": [
    "type(parse('1860').year)"
   ]
  },
  {
   "cell_type": "code",
   "execution_count": 468,
   "metadata": {
    "collapsed": false
   },
   "outputs": [],
   "source": [
    "AuthorsDF['age'] = abs(AuthorsDF.deathdate_parsed.apply(lambda x: x.year if type(x)==datetime else int(x if type(x)==str and x!='' else 2017) ) - AuthorsDF.birthdate_parsed.apply(lambda x: x.year if type(x)==datetime else int(x if type(x)==str and x!='' else 0))) #(AuthorsDF.deathdate_parsed.diff - AuthorsDF.birthdate_parsed.year).head()"
   ]
  },
  {
   "cell_type": "code",
   "execution_count": 475,
   "metadata": {
    "collapsed": false
   },
   "outputs": [
    {
     "data": {
      "text/plain": [
       "<matplotlib.axes._subplots.AxesSubplot at 0x7f4cd7304ef0>"
      ]
     },
     "execution_count": 475,
     "metadata": {},
     "output_type": "execute_result"
    },
    {
     "data": {
      "image/png": "[encoded data removed]",
      "text/plain": [
       "<matplotlib.figure.Figure at 0x7f4cd6afa438>"
      ]
     },
     "metadata": {},
     "output_type": "display_data"
    }
   ],
   "source": [
    "AuthorsDF.age.hist()\n"
   ]
  },
  {
   "cell_type": "code",
   "execution_count": 474,
   "metadata": {
    "collapsed": false
   },
   "outputs": [
    {
     "data": {
      "text/html": [
       "<div>\n",
       "<table border=\"1\" class=\"dataframe\">\n",
       "  <thead>\n",
       "    <tr style=\"text-align: right;\">\n",
       "      <th></th>\n",
       "      <th>alternate_names</th>\n",
       "      <th>bio</th>\n",
       "      <th>bio.value</th>\n",
       "      <th>birth_date</th>\n",
       "      <th>created.type</th>\n",
       "      <th>created.value</th>\n",
       "      <th>date</th>\n",
       "      <th>death_date</th>\n",
       "      <th>entity_type</th>\n",
       "      <th>fuller_name</th>\n",
       "      <th>...</th>\n",
       "      <th>name</th>\n",
       "      <th>personal_name</th>\n",
       "      <th>revision</th>\n",
       "      <th>tags</th>\n",
       "      <th>title</th>\n",
       "      <th>website</th>\n",
       "      <th>wikipedia</th>\n",
       "      <th>birthdate_parsed</th>\n",
       "      <th>deathdate_parsed</th>\n",
       "      <th>age</th>\n",
       "    </tr>\n",
       "  </thead>\n",
       "  <tbody>\n",
       "    <tr>\n",
       "      <th>0</th>\n",
       "      <td>NaN</td>\n",
       "      <td>NaN</td>\n",
       "      <td>NaN</td>\n",
       "      <td>2nd/3rd cent.</td>\n",
       "      <td>NaN</td>\n",
       "      <td>NaN</td>\n",
       "      <td>NaN</td>\n",
       "      <td>NaN</td>\n",
       "      <td>NaN</td>\n",
       "      <td>NaN</td>\n",
       "      <td>...</td>\n",
       "      <td>Philostratus the Athenian</td>\n",
       "      <td>Philostratus</td>\n",
       "      <td>1</td>\n",
       "      <td>NaN</td>\n",
       "      <td>the Athenian</td>\n",
       "      <td>NaN</td>\n",
       "      <td>NaN</td>\n",
       "      <td>2017-02-03 00:00:00</td>\n",
       "      <td></td>\n",
       "      <td>0</td>\n",
       "    </tr>\n",
       "    <tr>\n",
       "      <th>0</th>\n",
       "      <td>NaN</td>\n",
       "      <td>NaN</td>\n",
       "      <td>NaN</td>\n",
       "      <td>16th cent.</td>\n",
       "      <td>NaN</td>\n",
       "      <td>NaN</td>\n",
       "      <td>NaN</td>\n",
       "      <td>NaN</td>\n",
       "      <td>NaN</td>\n",
       "      <td>NaN</td>\n",
       "      <td>...</td>\n",
       "      <td>Zapata, Luis</td>\n",
       "      <td>Zapata, Luis</td>\n",
       "      <td>1</td>\n",
       "      <td>NaN</td>\n",
       "      <td>NaN</td>\n",
       "      <td>NaN</td>\n",
       "      <td>NaN</td>\n",
       "      <td>2017-03-16 00:00:00</td>\n",
       "      <td></td>\n",
       "      <td>0</td>\n",
       "    </tr>\n",
       "    <tr>\n",
       "      <th>0</th>\n",
       "      <td>[Valerius Flaccus, Gaius, 1st century.]</td>\n",
       "      <td>NaN</td>\n",
       "      <td>NaN</td>\n",
       "      <td>1st cent.</td>\n",
       "      <td>/type/datetime</td>\n",
       "      <td>2008-04-01T03:28:50.625462</td>\n",
       "      <td>NaN</td>\n",
       "      <td>NaN</td>\n",
       "      <td>NaN</td>\n",
       "      <td>NaN</td>\n",
       "      <td>...</td>\n",
       "      <td>Gaius Valerius Flaccus</td>\n",
       "      <td>Gaius Valerius Flaccus</td>\n",
       "      <td>3</td>\n",
       "      <td>NaN</td>\n",
       "      <td>NaN</td>\n",
       "      <td>NaN</td>\n",
       "      <td>NaN</td>\n",
       "      <td>2017-03-01 00:00:00</td>\n",
       "      <td></td>\n",
       "      <td>0</td>\n",
       "    </tr>\n",
       "    <tr>\n",
       "      <th>0</th>\n",
       "      <td>NaN</td>\n",
       "      <td>NaN</td>\n",
       "      <td>NaN</td>\n",
       "      <td>14th cent.</td>\n",
       "      <td>NaN</td>\n",
       "      <td>NaN</td>\n",
       "      <td>NaN</td>\n",
       "      <td>NaN</td>\n",
       "      <td>NaN</td>\n",
       "      <td>NaN</td>\n",
       "      <td>...</td>\n",
       "      <td>Dafydd ap Gwilym</td>\n",
       "      <td>Dafydd ap Gwilym</td>\n",
       "      <td>1</td>\n",
       "      <td>NaN</td>\n",
       "      <td>NaN</td>\n",
       "      <td>NaN</td>\n",
       "      <td>NaN</td>\n",
       "      <td>2017-03-14 00:00:00</td>\n",
       "      <td></td>\n",
       "      <td>0</td>\n",
       "    </tr>\n",
       "    <tr>\n",
       "      <th>0</th>\n",
       "      <td>[EOIN COLFER]</td>\n",
       "      <td>NaN</td>\n",
       "      <td>NaN</td>\n",
       "      <td>May 14,1965</td>\n",
       "      <td>/type/datetime</td>\n",
       "      <td>2008-04-01T03:28:50.625462</td>\n",
       "      <td>NaN</td>\n",
       "      <td>NaN</td>\n",
       "      <td>NaN</td>\n",
       "      <td>NaN</td>\n",
       "      <td>...</td>\n",
       "      <td>Eoin Colfer</td>\n",
       "      <td>Eoin Colfer</td>\n",
       "      <td>5</td>\n",
       "      <td>NaN</td>\n",
       "      <td>NaN</td>\n",
       "      <td>NaN</td>\n",
       "      <td>NaN</td>\n",
       "      <td>2017-05-14 00:00:00</td>\n",
       "      <td></td>\n",
       "      <td>0</td>\n",
       "    </tr>\n",
       "    <tr>\n",
       "      <th>0</th>\n",
       "      <td>NaN</td>\n",
       "      <td>NaN</td>\n",
       "      <td>NaN</td>\n",
       "      <td>13th cent.</td>\n",
       "      <td>NaN</td>\n",
       "      <td>NaN</td>\n",
       "      <td>NaN</td>\n",
       "      <td>NaN</td>\n",
       "      <td>NaN</td>\n",
       "      <td>NaN</td>\n",
       "      <td>...</td>\n",
       "      <td>Stricker</td>\n",
       "      <td>Stricker</td>\n",
       "      <td>1</td>\n",
       "      <td>NaN</td>\n",
       "      <td>NaN</td>\n",
       "      <td>NaN</td>\n",
       "      <td>NaN</td>\n",
       "      <td>2017-03-13 00:00:00</td>\n",
       "      <td></td>\n",
       "      <td>0</td>\n",
       "    </tr>\n",
       "    <tr>\n",
       "      <th>0</th>\n",
       "      <td>NaN</td>\n",
       "      <td>NaN</td>\n",
       "      <td>NaN</td>\n",
       "      <td>13th cent.</td>\n",
       "      <td>NaN</td>\n",
       "      <td>NaN</td>\n",
       "      <td>NaN</td>\n",
       "      <td>NaN</td>\n",
       "      <td>NaN</td>\n",
       "      <td>NaN</td>\n",
       "      <td>...</td>\n",
       "      <td>Gottfried von Strassburg</td>\n",
       "      <td>Gottfried</td>\n",
       "      <td>1</td>\n",
       "      <td>NaN</td>\n",
       "      <td>von Strassburg</td>\n",
       "      <td>NaN</td>\n",
       "      <td>NaN</td>\n",
       "      <td>2017-03-13 00:00:00</td>\n",
       "      <td></td>\n",
       "      <td>0</td>\n",
       "    </tr>\n",
       "    <tr>\n",
       "      <th>0</th>\n",
       "      <td>[Charlotte Boyett-Compo]</td>\n",
       "      <td>NaN</td>\n",
       "      <td>Charlotte Boyett-Compo was born on June 20th a...</td>\n",
       "      <td>20 June</td>\n",
       "      <td>/type/datetime</td>\n",
       "      <td>2008-04-01T03:28:50.625462</td>\n",
       "      <td>NaN</td>\n",
       "      <td>NaN</td>\n",
       "      <td>NaN</td>\n",
       "      <td>NaN</td>\n",
       "      <td>...</td>\n",
       "      <td>Charlotte Boyett-Compo</td>\n",
       "      <td>Charlotte Boyett-Compo</td>\n",
       "      <td>5</td>\n",
       "      <td>NaN</td>\n",
       "      <td>NaN</td>\n",
       "      <td>NaN</td>\n",
       "      <td>NaN</td>\n",
       "      <td>2017-06-20 00:00:00</td>\n",
       "      <td></td>\n",
       "      <td>0</td>\n",
       "    </tr>\n",
       "  </tbody>\n",
       "</table>\n",
       "<p>8 rows × 25 columns</p>\n",
       "</div>"
      ],
      "text/plain": [
       "                           alternate_names  bio  \\\n",
       "0                                      NaN  NaN   \n",
       "0                                      NaN  NaN   \n",
       "0  [Valerius Flaccus, Gaius, 1st century.]  NaN   \n",
       "0                                      NaN  NaN   \n",
       "0                            [EOIN COLFER]  NaN   \n",
       "0                                      NaN  NaN   \n",
       "0                                      NaN  NaN   \n",
       "0                 [Charlotte Boyett-Compo]  NaN   \n",
       "\n",
       "                                           bio.value     birth_date  \\\n",
       "0                                                NaN  2nd/3rd cent.   \n",
       "0                                                NaN     16th cent.   \n",
       "0                                                NaN      1st cent.   \n",
       "0                                                NaN     14th cent.   \n",
       "0                                                NaN    May 14,1965   \n",
       "0                                                NaN     13th cent.   \n",
       "0                                                NaN     13th cent.   \n",
       "0  Charlotte Boyett-Compo was born on June 20th a...        20 June   \n",
       "\n",
       "     created.type               created.value date death_date entity_type  \\\n",
       "0             NaN                         NaN  NaN        NaN         NaN   \n",
       "0             NaN                         NaN  NaN        NaN         NaN   \n",
       "0  /type/datetime  2008-04-01T03:28:50.625462  NaN        NaN         NaN   \n",
       "0             NaN                         NaN  NaN        NaN         NaN   \n",
       "0  /type/datetime  2008-04-01T03:28:50.625462  NaN        NaN         NaN   \n",
       "0             NaN                         NaN  NaN        NaN         NaN   \n",
       "0             NaN                         NaN  NaN        NaN         NaN   \n",
       "0  /type/datetime  2008-04-01T03:28:50.625462  NaN        NaN         NaN   \n",
       "\n",
       "  fuller_name ...                       name           personal_name  \\\n",
       "0         NaN ...  Philostratus the Athenian            Philostratus   \n",
       "0         NaN ...               Zapata, Luis            Zapata, Luis   \n",
       "0         NaN ...     Gaius Valerius Flaccus  Gaius Valerius Flaccus   \n",
       "0         NaN ...           Dafydd ap Gwilym        Dafydd ap Gwilym   \n",
       "0         NaN ...                Eoin Colfer             Eoin Colfer   \n",
       "0         NaN ...                   Stricker                Stricker   \n",
       "0         NaN ...   Gottfried von Strassburg               Gottfried   \n",
       "0         NaN ...     Charlotte Boyett-Compo  Charlotte Boyett-Compo   \n",
       "\n",
       "   revision tags           title website wikipedia     birthdate_parsed  \\\n",
       "0         1  NaN    the Athenian     NaN       NaN  2017-02-03 00:00:00   \n",
       "0         1  NaN             NaN     NaN       NaN  2017-03-16 00:00:00   \n",
       "0         3  NaN             NaN     NaN       NaN  2017-03-01 00:00:00   \n",
       "0         1  NaN             NaN     NaN       NaN  2017-03-14 00:00:00   \n",
       "0         5  NaN             NaN     NaN       NaN  2017-05-14 00:00:00   \n",
       "0         1  NaN             NaN     NaN       NaN  2017-03-13 00:00:00   \n",
       "0         1  NaN  von Strassburg     NaN       NaN  2017-03-13 00:00:00   \n",
       "0         5  NaN             NaN     NaN       NaN  2017-06-20 00:00:00   \n",
       "\n",
       "  deathdate_parsed age  \n",
       "0                    0  \n",
       "0                    0  \n",
       "0                    0  \n",
       "0                    0  \n",
       "0                    0  \n",
       "0                    0  \n",
       "0                    0  \n",
       "0                    0  \n",
       "\n",
       "[8 rows x 25 columns]"
      ]
     },
     "execution_count": 474,
     "metadata": {},
     "output_type": "execute_result"
    }
   ],
   "source": [
    "AuthorsDF[(AuthorsDF.age < 14)]"
   ]
  },
  {
   "cell_type": "code",
   "execution_count": 473,
   "metadata": {
    "collapsed": false
   },
   "outputs": [
    {
     "data": {
      "text/plain": [
       "datetime.datetime(2017, 3, 16, 0, 0)"
      ]
     },
     "execution_count": 473,
     "metadata": {},
     "output_type": "execute_result"
    }
   ],
   "source": [
    "parseDate('16th cent.')"
   ]
  },
  {
   "cell_type": "markdown",
   "metadata": {},
   "source": [
    "The ages of writers should be handled properly. There are a lot of outliers because of the poor data entry and parsing. The parsing should handle more specific cases. Especially as the one above where the date is specified by centure. We can find the following information from Wikipedia (https://en.wikipedia.org/wiki/Life_expectancy). It gives us enough information to build this lookup table:"
   ]
  },
  {
   "cell_type": "code",
   "execution_count": 526,
   "metadata": {
    "collapsed": true
   },
   "outputs": [],
   "source": [
    "LookupAges = [(0, 35), (5, 47.5), (13, 64), (14, 45), (15, 69), (16,71), (21,71)]"
   ]
  },
  {
   "cell_type": "markdown",
   "metadata": {},
   "source": [
    "in the above dictionary, we are setting the key as the upper bound for the century and the life expectancy as its corresponding value. \n",
    "\n",
    "After making changes to the *parseDate* function we check it:"
   ]
  },
  {
   "cell_type": "code",
   "execution_count": 499,
   "metadata": {
    "collapsed": false
   },
   "outputs": [
    {
     "data": {
      "text/plain": [
       "2"
      ]
     },
     "execution_count": 499,
     "metadata": {},
     "output_type": "execute_result"
    }
   ],
   "source": [
    "parseDate('2nd/3rd cent.')"
   ]
  },
  {
   "cell_type": "markdown",
   "metadata": {},
   "source": [
    "Let's apply the function to all the rows that contain birthdate in centuries:"
   ]
  },
  {
   "cell_type": "code",
   "execution_count": 546,
   "metadata": {
    "collapsed": false
   },
   "outputs": [
    {
     "name": "stderr",
     "output_type": "stream",
     "text": [
      "/home/kliton/anaconda3/lib/python3.5/site-packages/ipykernel/__main__.py:1: SettingWithCopyWarning: \n",
      "A value is trying to be set on a copy of a slice from a DataFrame\n",
      "\n",
      "See the caveats in the documentation: http://pandas.pydata.org/pandas-docs/stable/indexing.html#indexing-view-versus-copy\n",
      "  if __name__ == '__main__':\n"
     ]
    }
   ],
   "source": [
    "AuthorsDF.birthdate_parsed[AuthorsDF.birth_date.notnull() & AuthorsDF.birth_date.str.contains('cent')]=AuthorsDF.birth_date[AuthorsDF.birth_date.notnull() & AuthorsDF.birth_date.str.contains('cent')].apply(lambda bd: parseDate(bd))"
   ]
  },
  {
   "cell_type": "code",
   "execution_count": 547,
   "metadata": {
    "collapsed": false
   },
   "outputs": [
    {
     "data": {
      "text/plain": [
       "0     2\n",
       "0    -8\n",
       "0    16\n",
       "0     1\n",
       "0    14\n",
       "0    13\n",
       "0    13\n",
       "Name: birthdate_parsed, dtype: object"
      ]
     },
     "execution_count": 547,
     "metadata": {},
     "output_type": "execute_result"
    }
   ],
   "source": [
    "AuthorsDF.birthdate_parsed[AuthorsDF.birth_date.notnull() & AuthorsDF.birth_date.str.contains('cent')]"
   ]
  },
  {
   "cell_type": "markdown",
   "metadata": {},
   "source": [
    "We see that the dates are converted to integers corresponding to centuries. Now, we can convert those values to age according to the lookup table:"
   ]
  },
  {
   "cell_type": "code",
   "execution_count": 549,
   "metadata": {
    "collapsed": false
   },
   "outputs": [
    {
     "name": "stderr",
     "output_type": "stream",
     "text": [
      "/home/kliton/anaconda3/lib/python3.5/site-packages/ipykernel/__main__.py:1: SettingWithCopyWarning: \n",
      "A value is trying to be set on a copy of a slice from a DataFrame\n",
      "\n",
      "See the caveats in the documentation: http://pandas.pydata.org/pandas-docs/stable/indexing.html#indexing-view-versus-copy\n",
      "  if __name__ == '__main__':\n"
     ]
    }
   ],
   "source": [
    "AuthorsDF.age[AuthorsDF.birth_date.notnull() & AuthorsDF.birth_date.str.contains('cent')]=AuthorsDF.birthdate_parsed[AuthorsDF.birth_date.notnull() & AuthorsDF.birth_date.str.contains('cent')].apply(lambda bd: LookupAges[bisect.bisect_left([x[0] for x in LookupAges], bd)][1])"
   ]
  },
  {
   "cell_type": "code",
   "execution_count": 551,
   "metadata": {
    "collapsed": false
   },
   "outputs": [
    {
     "data": {
      "text/plain": [
       "0    47.5\n",
       "0    35.0\n",
       "0    71.0\n",
       "0    47.5\n",
       "0    45.0\n",
       "0    64.0\n",
       "0    64.0\n",
       "Name: age, dtype: float64"
      ]
     },
     "execution_count": 551,
     "metadata": {},
     "output_type": "execute_result"
    }
   ],
   "source": [
    "AuthorsDF.age[AuthorsDF.birth_date.notnull() & AuthorsDF.birth_date.str.contains('cent')]"
   ]
  },
  {
   "cell_type": "markdown",
   "metadata": {},
   "source": [
    "There are still a lot of records that do not contain a valid value for the age column, because there is no birth date in the records:"
   ]
  },
  {
   "cell_type": "code",
   "execution_count": 656,
   "metadata": {
    "collapsed": false
   },
   "outputs": [
    {
     "data": {
      "text/plain": [
       "4570"
      ]
     },
     "execution_count": 656,
     "metadata": {},
     "output_type": "execute_result"
    }
   ],
   "source": [
    "len(AuthorsDF[AuthorsDF.age > 150])"
   ]
  },
  {
   "cell_type": "code",
   "execution_count": 658,
   "metadata": {
    "collapsed": false
   },
   "outputs": [],
   "source": [
    "AuthorsDF.loc[AuthorsDF.age > 150, 'age'] = pd.np.NaN"
   ]
  },
  {
   "cell_type": "code",
   "execution_count": 661,
   "metadata": {
    "collapsed": false,
    "scrolled": true
   },
   "outputs": [
    {
     "data": {
      "text/plain": [
       "[{'key': '/languages/eng'}]                               11587\n",
       "[{'key': '/languages/spa'}]                                 231\n",
       "[{'key': '/languages/fre'}]                                 182\n",
       "[{'key': '/languages/ger'}]                                  90\n",
       "[{'key': '/languages/ita'}]                                  47\n",
       "[{'key': '/languages/por'}]                                  32\n",
       "[{'key': '/languages/lat'}]                                   8\n",
       "[{'key': '/languages/rus'}]                                   8\n",
       "[{'key': '/languages/dut'}]                                   5\n",
       "[{'key': '/languages/swe'}]                                   3\n",
       "[{'key': '/languages/cat'}]                                   3\n",
       "[{'key': '/languages/wel'}]                                   2\n",
       "[{'key': '/languages/gag'}]                                   2\n",
       "[{'key': '/languages/grc'}]                                   2\n",
       "[{'key': '/languages/ang'}]                                   2\n",
       "[{'key': '/languages/gle'}]                                   2\n",
       "[{'key': '/languages/jpn'}]                                   2\n",
       "[{'key': '/languages/gmh'}]                                   1\n",
       "[{'key': '/languages/vie'}]                                   1\n",
       "[{'key': '/languages/fin'}]                                   1\n",
       "[{'key': '/languages/enm'}]                                   1\n",
       "[{'key': '/languages/rum'}]                                   1\n",
       "[{'key': '/languages/lap'}]                                   1\n",
       "[{'key': '/languages/glg'}]                                   1\n",
       "[{'key': '/languages/eng'}, {'key': '/languages/lat'}]        1\n",
       "[{'key': '/languages/lan'}]                                   1\n",
       "[{'key': '/languages/roa'}]                                   1\n",
       "[{'key': '/languages/chi'}]                                   1\n",
       "[{'key': '/languages/ara'}]                                   1\n",
       "[{'key': '/languages/und'}]                                   1\n",
       "[{'key': '/languages/dan'}]                                   1\n",
       "[{'key': '/languages/frm'}]                                   1\n",
       "[{'key': '/languages/efi'}]                                   1\n",
       "Name: languages, dtype: int64"
      ]
     },
     "execution_count": 661,
     "metadata": {},
     "output_type": "execute_result"
    }
   ],
   "source": [
    "BkDescNonZeroRating.languages.value_counts()"
   ]
  },
  {
   "cell_type": "code",
   "execution_count": 663,
   "metadata": {
    "collapsed": false
   },
   "outputs": [],
   "source": [
    "LangCount =  BkDescNonZeroRating['languages'].value_counts()\n",
    "LangCGT3 = LangCount[LangCount > 3]\n",
    "BkDescNonZeroRating = BkDescNonZeroRating[BkDescNonZeroRating.languages.isin(LangCGT3.index)]"
   ]
  },
  {
   "cell_type": "code",
   "execution_count": 664,
   "metadata": {
    "collapsed": true
   },
   "outputs": [],
   "source": [
    "AuthorsDF.to_csv(path+'AuthorsProcessed.csv')\n",
    "BkDescNonZeroRating.to_csv(path+'BkProcessed.csv')"
   ]
  },
  {
   "cell_type": "code",
   "execution_count": null,
   "metadata": {
    "collapsed": true
   },
   "outputs": [],
   "source": []
  },
  {
   "cell_type": "code",
   "execution_count": null,
   "metadata": {
    "collapsed": true
   },
   "outputs": [],
   "source": []
  },
  {
   "cell_type": "code",
   "execution_count": null,
   "metadata": {
    "collapsed": true
   },
   "outputs": [],
   "source": []
  },
  {
   "cell_type": "code",
   "execution_count": null,
   "metadata": {
    "collapsed": true
   },
   "outputs": [],
   "source": []
  }
 ],
 "metadata": {
  "anaconda-cloud": {},
  "kernelspec": {
   "display_name": "Python [conda root]",
   "language": "python",
   "name": "conda-root-py"
  },
  "language_info": {
   "codemirror_mode": {
    "name": "ipython",
    "version": 3
   },
   "file_extension": ".py",
   "mimetype": "text/x-python",
   "name": "python",
   "nbconvert_exporter": "python",
   "pygments_lexer": "ipython3",
   "version": "3.5.2"
  }
 },
 "nbformat": 4,
 "nbformat_minor": 1
}
